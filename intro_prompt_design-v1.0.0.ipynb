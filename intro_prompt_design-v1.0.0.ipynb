{
 "cells": [
  {
   "cell_type": "code",
   "execution_count": null,
   "metadata": {
    "id": "ur8xi4C7S06n"
   },
   "outputs": [],
   "source": [
    "# Copyright 2024 Google LLC\n",
    "#\n",
    "# Licensed under the Apache License, Version 2.0 (the \"License\");\n",
    "# you may not use this file except in compliance with the License.\n",
    "# You may obtain a copy of the License at\n",
    "#\n",
    "#     https://www.apache.org/licenses/LICENSE-2.0\n",
    "#\n",
    "# Unless required by applicable law or agreed to in writing, software\n",
    "# distributed under the License is distributed on an \"AS IS\" BASIS,\n",
    "# WITHOUT WARRANTIES OR CONDITIONS OF ANY KIND, either express or implied.\n",
    "# See the License for the specific language governing permissions and\n",
    "# limitations under the License."
   ]
  },
  {
   "cell_type": "markdown",
   "metadata": {
    "id": "JAPoU8Sm5E6e"
   },
   "source": [
    "# Prompt Design - Best Practices\n",
    "\n",
    "<table align=\"left\">\n",
    "  <td style=\"text-align: center\">\n",
    "    <a href=\"https://colab.research.google.com/github/GoogleCloudPlatform/generative-ai/blob/main/gemini/prompts/intro_prompt_design.ipynb\">\n",
    "      <img src=\"https://cloud.google.com/ml-engine/images/colab-logo-32px.png\" alt=\"Google Colaboratory logo\"><br> Open in Colab\n",
    "    </a>\n",
    "  </td>\n",
    "  <td style=\"text-align: center\">\n",
    "    <a href=\"https://console.cloud.google.com/vertex-ai/colab/import/https:%2F%2Fraw.githubusercontent.com%2FGoogleCloudPlatform%2Fgenerative-ai%2Fmain%2Fgemini%2Fprompts%2Fintro_prompt_design.ipynb\">\n",
    "      <img width=\"32px\" src=\"https://lh3.googleusercontent.com/JmcxdQi-qOpctIvWKgPtrzZdJJK-J3sWE1RsfjZNwshCFgE_9fULcNpuXYTilIR2hjwN\" alt=\"Google Cloud Colab Enterprise logo\"><br> Open in Colab Enterprise\n",
    "    </a>\n",
    "  </td>    \n",
    "  <td style=\"text-align: center\">\n",
    "    <a href=\"https://console.cloud.google.com/vertex-ai/workbench/deploy-notebook?download_url=https://raw.githubusercontent.com/GoogleCloudPlatform/generative-ai/main/gemini/prompts/intro_prompt_design.ipynb\">\n",
    "      <img src=\"https://lh3.googleusercontent.com/UiNooY4LUgW_oTvpsNhPpQzsstV5W8F7rYgxgGBD85cWJoLmrOzhVs_ksK_vgx40SHs7jCqkTkCk=e14-rj-sc0xffffff-h130-w32\" alt=\"Vertex AI logo\"><br> Open in Workbench\n",
    "    </a>\n",
    "  </td>\n",
    "  <td style=\"text-align: center\">\n",
    "    <a href=\"https://github.com/GoogleCloudPlatform/generative-ai/blob/main/gemini/prompts/intro_prompt_design.ipynb\">\n",
    "      <img src=\"https://cloud.google.com/ml-engine/images/github-logo-32px.png\" alt=\"GitHub logo\"><br> View on GitHub\n",
    "    </a>\n",
    "  </td>\n",
    "</table>"
   ]
  },
  {
   "cell_type": "markdown",
   "metadata": {
    "id": "84f0f73a0f76"
   },
   "source": [
    "| | | |\n",
    "|-|-|-|\n",
    "|Author(s) | [Polong Lin](https://github.com/polong-lin) | [Karl Weinmeister](https://github.com/kweinmeister)|"
   ]
  },
  {
   "cell_type": "markdown",
   "metadata": {
    "id": "tvgnzT1CKxrO"
   },
   "source": [
    "## Overview\n",
    "\n",
    "This notebook covers the essentials of prompt engineering, including some best practices.\n",
    "\n",
    "Learn more about prompt design in the [official documentation](https://cloud.google.com/vertex-ai/docs/generative-ai/text/text-overview).\n",
    "\n",
    "In this notebook, you learn best practices around prompt engineering -- how to design prompts to improve the quality of your responses.\n",
    "\n",
    "This notebook covers the following best practices for prompt engineering:\n",
    "\n",
    "- Be concise\n",
    "- Be specific and well-defined\n",
    "- Ask one task at a time\n",
    "- Turn generative tasks into classification tasks\n",
    "- Improve response quality by including examples"
   ]
  },
  {
   "cell_type": "markdown",
   "metadata": {
    "id": "61RBz8LLbxCR"
   },
   "source": [
    "## Getting Started"
   ]
  },
  {
   "cell_type": "markdown",
   "metadata": {
    "id": "No17Cw5hgx12"
   },
   "source": [
    "### Install Vertex AI SDK and other required packages\n"
   ]
  },
  {
   "cell_type": "code",
   "execution_count": 4,
   "metadata": {
    "id": "tFy3H3aPgx12",
    "tags": []
   },
   "outputs": [
    {
     "name": "stdout",
     "output_type": "stream",
     "text": [
      "Note: you may need to restart the kernel to use updated packages.\n"
     ]
    }
   ],
   "source": [
    "%pip install --upgrade --user --quiet google-cloud-aiplatform"
   ]
  },
  {
   "cell_type": "markdown",
   "metadata": {
    "id": "R5Xep4W9lq-Z"
   },
   "source": [
    "### Restart runtime\n",
    "\n",
    "To use the newly installed packages in this Jupyter runtime, you must restart the runtime. You can do this by running the cell below, which will restart the current kernel."
   ]
  },
  {
   "cell_type": "code",
   "execution_count": 5,
   "metadata": {
    "id": "XRvKdaPDTznN",
    "tags": []
   },
   "outputs": [
    {
     "data": {
      "text/plain": [
       "{'status': 'ok', 'restart': True}"
      ]
     },
     "execution_count": 5,
     "metadata": {},
     "output_type": "execute_result"
    }
   ],
   "source": [
    "import IPython\n",
    "\n",
    "app = IPython.Application.instance()\n",
    "app.kernel.do_shutdown(True)"
   ]
  },
  {
   "cell_type": "markdown",
   "metadata": {
    "id": "SbmM4z7FOBpM"
   },
   "source": [
    "<div class=\"alert alert-block alert-warning\">\n",
    "<b>⚠️ The kernel is going to restart. Please wait until it is finished before continuing to the next step. ⚠️</b>\n",
    "</div>\n"
   ]
  },
  {
   "cell_type": "markdown",
   "metadata": {
    "id": "dmWOrTJ3gx13"
   },
   "source": [
    "### Authenticate your notebook environment (Colab only)\n",
    "\n",
    "Authenticate your environment on Google Colab.\n"
   ]
  },
  {
   "cell_type": "code",
   "execution_count": null,
   "metadata": {
    "id": "NyKGtVQjgx13",
    "tags": []
   },
   "outputs": [],
   "source": [
    "import sys\n",
    "\n",
    "if \"google.colab\" in sys.modules:\n",
    "    from google.colab import auth\n",
    "\n",
    "    auth.authenticate_user()"
   ]
  },
  {
   "cell_type": "markdown",
   "metadata": {
    "id": "DF4l8DTdWgPY"
   },
   "source": [
    "### Set Google Cloud project information and initialize Vertex AI SDK\n",
    "\n",
    "To get started using Vertex AI, you must have an existing Google Cloud project and [enable the Vertex AI API](https://console.cloud.google.com/flows/enableapi?apiid=aiplatform.googleapis.com).\n",
    "\n",
    "Learn more about [setting up a project and a development environment](https://cloud.google.com/vertex-ai/docs/start/cloud-environment)."
   ]
  },
  {
   "cell_type": "code",
   "execution_count": 2,
   "metadata": {
    "id": "Nqwi-5ufWp_B",
    "tags": []
   },
   "outputs": [],
   "source": [
    "PROJECT_ID = \"qwiklabs-gcp-02-dd1ad620be77\"  # @param {type:\"string\"}\n",
    "LOCATION = \"us-west1\"  # @param {type:\"string\"}\n",
    "\n",
    "import vertexai\n",
    "\n",
    "vertexai.init(project=PROJECT_ID, location=LOCATION)"
   ]
  },
  {
   "cell_type": "code",
   "execution_count": 3,
   "metadata": {
    "id": "QqRWdPGmW3NJ",
    "tags": []
   },
   "outputs": [],
   "source": [
    "from vertexai.generative_models import GenerationConfig, GenerativeModel\n",
    "import time"
   ]
  },
  {
   "cell_type": "markdown",
   "metadata": {
    "id": "OnFPpCRtXRl4"
   },
   "source": [
    "### Load model"
   ]
  },
  {
   "cell_type": "code",
   "execution_count": 4,
   "metadata": {
    "id": "IQYu_9SvXQah",
    "tags": []
   },
   "outputs": [],
   "source": [
    "model = GenerativeModel(\"gemini-1.5-flash\")"
   ]
  },
  {
   "cell_type": "code",
   "execution_count": 6,
   "metadata": {
    "tags": []
   },
   "outputs": [],
   "source": [
    "import time\n",
    "\n",
    "def call_gemini(prompt, generation_config=GenerationConfig(temperature=1.0)):\n",
    "    wait_time = 1\n",
    "    while True:\n",
    "        try:\n",
    "            response = model.generate_content(prompt, generation_config=generation_config).text\n",
    "            return response\n",
    "            break  # Exit the loop if successful\n",
    "        except Exception as e:  # Replace with the actual exception type\n",
    "            time.sleep(wait_time)\n",
    "            wait_time *= 2  # Double the wait time\n",
    "\n",
    "def send_message_gemini(model, prompt):    \n",
    "    wait_time = 1\n",
    "    while True:\n",
    "        try:\n",
    "            response = model.send_message(prompt).text\n",
    "            return response\n",
    "            break  # Exit the loop if successful\n",
    "        except Exception as e:  # Replace with the actual exception type\n",
    "            time.sleep(wait_time)\n",
    "            wait_time *= 2  # Double the wait time"
   ]
  },
  {
   "cell_type": "markdown",
   "metadata": {
    "id": "cVOtUNJ5X0PY"
   },
   "source": [
    "## Prompt engineering best practices"
   ]
  },
  {
   "cell_type": "markdown",
   "metadata": {
    "id": "uv_e0fEPX60q"
   },
   "source": [
    "Prompt engineering is all about how to design your prompts so that the response is what you were indeed hoping to see.\n",
    "\n",
    "The idea of using \"unfancy\" prompts is to minimize the noise in your prompt to reduce the possibility of the LLM misinterpreting the intent of the prompt. Below are a few guidelines on how to engineer \"unfancy\" prompts.\n",
    "\n",
    "In this section, you'll cover the following best practices when engineering prompts:\n",
    "\n",
    "* Be concise\n",
    "* Be specific, and well-defined\n",
    "* Ask one task at a time\n",
    "* Improve response quality by including examples\n",
    "* Turn generative tasks to classification tasks to improve safety"
   ]
  },
  {
   "cell_type": "markdown",
   "metadata": {
    "id": "0pY4XX0OX9_Y"
   },
   "source": [
    "### Be concise"
   ]
  },
  {
   "cell_type": "markdown",
   "metadata": {
    "id": "xlRpxyxGYA1K"
   },
   "source": [
    "🛑 Not recommended. The prompt below is unnecessarily verbose."
   ]
  },
  {
   "cell_type": "code",
   "execution_count": 7,
   "metadata": {
    "id": "YKV4G-CfXdbi",
    "tags": []
   },
   "outputs": [
    {
     "name": "stdout",
     "output_type": "stream",
     "text": [
      "Here are some name ideas for a flower shop specializing in dried flowers, playing with different themes and styles:\n",
      "\n",
      "**Whimsical & Romantic:**\n",
      "\n",
      "* Everlasting Blooms\n",
      "* Dried & Delightful\n",
      "* The Petal Press\n",
      "* Whispers of Wildflowers\n",
      "* Bloom & Remember\n",
      "* The Sun-Kissed Bouquet\n",
      "* The Dusty Rose\n",
      "\n",
      "**Modern & Minimalist:**\n",
      "\n",
      "* Bloom & Co.\n",
      "* The Dried Flower Bar\n",
      "* Paper & Petal\n",
      "* Botanicals & Co.\n",
      "* The Dried Bouquet\n",
      "* Bloom Forever\n",
      "* The Lasting Petal\n",
      "\n",
      "**Nature & Earthy:**\n",
      "\n",
      "* Wildflower Gatherings\n",
      "* Meadow & Bloom\n",
      "* The Wildflower Press\n",
      "* The Dried Garden\n",
      "* Whispering Pines\n",
      "* Forest & Bloom\n",
      "\n",
      "**Unique & Playful:**\n",
      "\n",
      "* The Flower Whisperer\n",
      "* The Boho Bouquet\n",
      "* Dried & Dusted\n",
      "* The Forever Bloom\n",
      "* The Petal Post\n",
      "* The Botanical Muse\n",
      "* The Sun-Kissed Bloom\n",
      "\n",
      "**Tips for Choosing a Name:**\n",
      "\n",
      "* **Keep it short and memorable.**\n",
      "* **Reflect your brand aesthetic.**\n",
      "* **Check availability of the name and domain name.**\n",
      "* **Get feedback from friends and potential customers.** \n",
      "\n",
      "**Bonus:**\n",
      "\n",
      "* Consider using your city or location in the name for local recognition.\n",
      "* Include a play on words or a catchy tagline.\n",
      "\n",
      "Good luck with your flower shop! \n",
      "\n"
     ]
    }
   ],
   "source": [
    "prompt = \"What do you think could be a good name for a flower shop that specializes in selling bouquets of dried flowers more than fresh flowers?\"\n",
    "\n",
    "print(call_gemini(prompt))"
   ]
  },
  {
   "cell_type": "markdown",
   "metadata": {
    "id": "YrJexRHJYnmC"
   },
   "source": [
    "✅ Recommended. The prompt below is to the point and concise."
   ]
  },
  {
   "cell_type": "code",
   "execution_count": 8,
   "metadata": {
    "id": "VHetn9lCYrXB",
    "tags": []
   },
   "outputs": [
    {
     "name": "stdout",
     "output_type": "stream",
     "text": [
      "## Flower Shop Names for Dried Bouquets:\n",
      "\n",
      "**Evoking Timeless Beauty and Nostalgia:**\n",
      "\n",
      "* **The Dried Bloom**\n",
      "* **Everlasting Blooms**\n",
      "* **Whispers of Time**\n",
      "* **Bloom & Dusk**\n",
      "* **Faded Glory**\n",
      "* **Dried & Divine**\n",
      "* **The Botanical Archive**\n",
      "* **The Paper Petal**\n",
      "* **Forever in Bloom**\n",
      "* **Timeless Blooms**\n",
      "\n",
      "**Highlighting the Natural and Sustainable Aspect:**\n",
      "\n",
      "* **Earth & Bloom**\n",
      "* **The Dried Garden**\n",
      "* **Natural Beauty**\n",
      "* **Botanical Treasures**\n",
      "* **Sustainable Blooms**\n",
      "* **The Dried Petal Project**\n",
      "* **The Meadow & Bloom**\n",
      "* **The Eco-Bloom**\n",
      "* **The Botanical Haven**\n",
      "\n",
      "**Playful & Unique:**\n",
      "\n",
      "* **Bloom & Dust**\n",
      "* **The Dried Flower Co.**\n",
      "* **Petal & Twig**\n",
      "* **The Dusty Bouquet**\n",
      "* **The Dried Bloom Bar**\n",
      "* **Blooms & Beyond**\n",
      "* **The Flower Alchemist**\n",
      "\n",
      "**Consider including your location or a personal touch:**\n",
      "\n",
      "* **[Your Name]'s Dried Blooms**\n",
      "* **[City] Dried Flowers**\n",
      "* **The [Neighborhood] Dried Bouquet Shop**\n",
      "\n",
      "**Tips for Choosing a Name:**\n",
      "\n",
      "* **Keep it short and easy to remember.**\n",
      "* **Make sure it's relevant to your brand and target audience.**\n",
      "* **Check if the name is available as a domain name and on social media platforms.**\n",
      "* **Get feedback from friends and family.** \n",
      "\n",
      "Good luck choosing the perfect name! \n",
      "\n"
     ]
    }
   ],
   "source": [
    "prompt = \"Suggest a name for a flower shop that sells bouquets of dried flowers\"\n",
    "\n",
    "print(call_gemini(prompt))"
   ]
  },
  {
   "cell_type": "markdown",
   "metadata": {
    "id": "eXTAvdOHY0OC"
   },
   "source": [
    "### Be specific, and well-defined"
   ]
  },
  {
   "cell_type": "markdown",
   "metadata": {
    "id": "FTH4GEIgY1dp"
   },
   "source": [
    "Suppose that you want to brainstorm creative ways to describe Earth."
   ]
  },
  {
   "cell_type": "markdown",
   "metadata": {
    "id": "o5BmXBiGY4KC"
   },
   "source": [
    "🛑 The prompt below might be a bit too generic (which is certainly OK if you'd like to ask a generic question!)"
   ]
  },
  {
   "cell_type": "code",
   "execution_count": 9,
   "metadata": {
    "id": "eHBaMvv7Y6mR",
    "tags": []
   },
   "outputs": [
    {
     "name": "stdout",
     "output_type": "stream",
     "text": [
      "## Earth: Our Home Planet\n",
      "\n",
      "Earth is the third planet from the Sun and the only known celestial body to harbor life. It's a dynamic and complex world with a rich history and an uncertain future. Here's a glimpse into some of Earth's defining features:\n",
      "\n",
      "**Physical Characteristics:**\n",
      "\n",
      "* **Size and Shape:** Earth is a slightly flattened sphere with a diameter of approximately 12,742 kilometers. \n",
      "* **Composition:** Mostly iron, nickel, silicon, oxygen, magnesium, sulfur, and aluminum.\n",
      "* **Atmosphere:** Primarily nitrogen (78%) and oxygen (21%), with trace amounts of other gases. The atmosphere protects us from harmful radiation and regulates Earth's temperature.\n",
      "* **Surface:** Diverse and dynamic, featuring continents, oceans, mountains, valleys, glaciers, and deserts.\n",
      "* **Hydrosphere:** 71% of Earth's surface is covered in water, primarily saltwater in oceans.\n",
      "* **Climate:** Varies greatly from region to region, influenced by latitude, altitude, and ocean currents. \n",
      "* **Magnetic Field:** Generated by the Earth's molten core, protecting us from solar wind.\n",
      "\n",
      "**Life on Earth:**\n",
      "\n",
      "* **Biodiversity:** Earth boasts a staggering variety of life, from microscopic bacteria to massive whales. \n",
      "* **Evolution:** Life on Earth has evolved over billions of years, adapting to changing environmental conditions.\n",
      "* **Humans:** Homo sapiens emerged relatively recently and have had a significant impact on the planet.\n",
      "\n",
      "**Earth's History:**\n",
      "\n",
      "* **Formation:** Formed from the accretion of dust and gas in the early solar system, about 4.5 billion years ago.\n",
      "* **Early Earth:** Extremely hot and volcanic, with a thick atmosphere.\n",
      "* **Life's Beginnings:** First evidence of life dates back to around 3.8 billion years ago.\n",
      "* **Continents and Oceans:** Continents have formed and broken apart over millions of years, reshaping the planet's surface.\n",
      "* **Climate Change:** Earth's climate has fluctuated over time, experiencing periods of glaciation and warming.\n",
      "\n",
      "**Earth's Future:**\n",
      "\n",
      "* **Climate Change:** Human activities are causing rapid climate change, leading to rising sea levels, extreme weather events, and ecosystem disruption.\n",
      "* **Sustainability:**  Protecting Earth's resources and ecosystems is essential for future generations.\n",
      "* **Space Exploration:**  Human exploration of space continues to deepen our understanding of Earth and its place in the universe.\n",
      "\n",
      "Earth is a remarkable planet, full of wonder and complexity. Understanding its history, present state, and potential future is crucial for ensuring the well-being of all life on Earth. \n",
      "\n"
     ]
    }
   ],
   "source": [
    "prompt = \"Tell me about Earth\"\n",
    "\n",
    "print(call_gemini(prompt))"
   ]
  },
  {
   "cell_type": "markdown",
   "metadata": {
    "id": "4iyvEbteZnFL"
   },
   "source": [
    "✅ Recommended. The prompt below is specific and well-defined."
   ]
  },
  {
   "cell_type": "code",
   "execution_count": 10,
   "metadata": {
    "id": "JQ80z8urZnne",
    "tags": []
   },
   "outputs": [
    {
     "name": "stdout",
     "output_type": "stream",
     "text": [
      "## What Makes Earth Unique:\n",
      "\n",
      "**1. Abundant Liquid Water:** Earth is the only planet in our solar system with liquid water on its surface, covering 71% of the planet. This is crucial for life as we know it.\n",
      "\n",
      "**2. Plate Tectonics:** Earth's unique geological activity driven by plate tectonics creates mountains, volcanoes, and earthquakes, constantly reshaping the planet's surface and driving its climate.\n",
      "\n",
      "**3. Atmosphere with Oxygen:** Earth's atmosphere is rich in oxygen, produced by photosynthetic life. This oxygen is essential for animal respiration and the development of complex life forms.\n",
      "\n",
      "**4. Strong Magnetic Field:** Earth's magnetic field acts as a shield against harmful solar radiation, protecting life on the surface.\n",
      "\n",
      "**5. Stable Climate:** Despite variations, Earth enjoys a relatively stable climate thanks to a delicate balance of greenhouse gases, ocean currents, and atmospheric circulation.\n",
      "\n",
      "**6. Diverse Life Forms:**  Earth hosts an astonishing diversity of life, from microscopic bacteria to giant whales, with millions of species adapted to every environment.\n",
      "\n",
      "**7. Evidence of Past Life:**  Fossils and geological evidence indicate a rich history of life on Earth, dating back billions of years, demonstrating the planet's long-term ability to sustain life.\n",
      "\n",
      "**8. Presence of Moon:** Earth's large moon stabilizes its axial tilt, contributing to the planet's stable climate and creating tides that are crucial for marine ecosystems.\n",
      "\n",
      "**9. Potential for Habitable Zones:**  While not conclusive, the existence of life on Earth suggests that other planets in habitable zones around other stars could potentially support life as well.\n",
      "\n",
      "**10. Human Intelligence:**  Earth is the only known planet to harbor a species with advanced intelligence, technology, and complex societies.\n",
      "\n",
      "These are just a few of the factors that contribute to Earth's uniqueness. While other planets may share some of these characteristics, Earth remains the only confirmed planet known to support life as we know it. This makes it a truly extraordinary and precious world. \n",
      "\n"
     ]
    }
   ],
   "source": [
    "prompt = \"Generate a list of ways that makes Earth unique compared to other planets\"\n",
    "\n",
    "print(call_gemini(prompt))"
   ]
  },
  {
   "cell_type": "markdown",
   "metadata": {
    "id": "R5kmfZYHZsJ7"
   },
   "source": [
    "### Ask one task at a time"
   ]
  },
  {
   "cell_type": "markdown",
   "metadata": {
    "id": "rsAezxeYZuUN"
   },
   "source": [
    "🛑 Not recommended. The prompt below has two parts to the question that could be asked separately."
   ]
  },
  {
   "cell_type": "code",
   "execution_count": 11,
   "metadata": {
    "id": "ElywPXpuZtWf",
    "tags": []
   },
   "outputs": [
    {
     "name": "stdout",
     "output_type": "stream",
     "text": [
      "Here's a breakdown of those two questions:\n",
      "\n",
      "**Boiling Water**\n",
      "\n",
      "There isn't one single \"best\" method, but here are some effective ones:\n",
      "\n",
      "* **Stovetop:** This is the most common and straightforward way. Simply fill a pot with water and heat it on a stovetop burner. This is efficient and works well for most purposes. \n",
      "* **Electric Kettle:** Electric kettles are designed specifically for boiling water quickly. They are convenient and often energy-efficient.\n",
      "* **Microwave:** You can boil water in a microwave-safe container, though it can be less efficient and may not be suitable for large volumes.\n",
      "* **Camping Stove:** For outdoor use, a camping stove with a pot can efficiently boil water.\n",
      "\n",
      "**Why is the Sky Blue?**\n",
      "\n",
      "This has to do with how sunlight interacts with the Earth's atmosphere. Here's the simplified explanation:\n",
      "\n",
      "1. **Sunlight:** The sun emits a spectrum of colors (like a rainbow).\n",
      "2. **Scattering:** When sunlight enters the Earth's atmosphere, it collides with tiny molecules like nitrogen and oxygen. \n",
      "3. **Rayleigh Scattering:**  This process, called Rayleigh scattering, causes the shorter wavelengths of light (like blue and violet) to scatter much more than the longer wavelengths (like red and orange).\n",
      "4. **Blue Light:** This scattered blue light reaches our eyes from all directions, making the sky appear blue.\n",
      "\n",
      "**Bonus:**\n",
      "\n",
      "* **Sunsets:**  At sunset, sunlight travels through more of the atmosphere. This causes the shorter wavelengths to scatter away, leaving mostly the longer wavelengths (red and orange), which is why sunsets appear those colors.\n",
      "* **Other Factors:** Dust and pollution can also affect the color of the sky.\n",
      "\n"
     ]
    }
   ],
   "source": [
    "prompt = \"What's the best method of boiling water and why is the sky blue?\"\n",
    "\n",
    "print(call_gemini(prompt))"
   ]
  },
  {
   "cell_type": "markdown",
   "metadata": {
    "id": "ejzahazBZ8vk"
   },
   "source": [
    "✅ Recommended. The prompts below asks one task a time."
   ]
  },
  {
   "cell_type": "code",
   "execution_count": 13,
   "metadata": {
    "id": "C5ckp2F0Z_Ba",
    "tags": []
   },
   "outputs": [
    {
     "name": "stdout",
     "output_type": "stream",
     "text": [
      "There isn't really a \"best\" method of boiling water, as it depends on your needs and preferences. However, here are some factors to consider:\n",
      "\n",
      "**1.  Speed:**\n",
      "\n",
      "* **Microwave:** Fastest method, especially for small amounts of water. \n",
      "* **Electric kettle:** Also very fast, and often safer than stovetop.\n",
      "* **Stovetop:** Slower than microwave or electric kettle, but more versatile for larger volumes. \n",
      "\n",
      "**2.  Safety:**\n",
      "\n",
      "* **Electric kettle:** Generally considered the safest option, with built-in safety features like auto-shutoff.\n",
      "* **Microwave:** Can be dangerous if the container isn't microwave-safe, or if you forget about it. \n",
      "* **Stovetop:** Requires constant supervision and caution to avoid burns.\n",
      "\n",
      "**3.  Convenience:**\n",
      "\n",
      "* **Electric kettle:** Easy to use and clean, and often has temperature control features.\n",
      "* **Microwave:** Requires less space and can be used for other tasks.\n",
      "* **Stovetop:** Requires a pot and burner, which can be less convenient.\n",
      "\n",
      "**4.  Energy efficiency:**\n",
      "\n",
      "* **Electric kettle:** Most energy-efficient option, as it only heats the water needed. \n",
      "* **Microwave:** Can be energy-efficient, depending on the model.\n",
      "* **Stovetop:** Least energy-efficient, as it heats the pot and surrounding area.\n",
      "\n",
      "**5.  Water volume:**\n",
      "\n",
      "* **Electric kettle:** Best for small to medium volumes (usually up to 1.5 liters).\n",
      "* **Microwave:** Best for small volumes (usually up to 1 liter).\n",
      "* **Stovetop:** Best for larger volumes.\n",
      "\n",
      "**Overall:**\n",
      "\n",
      "* For **speed and convenience**, an **electric kettle** is often the best choice.\n",
      "* For **small volumes** and **quick heating**, a **microwave** can be convenient.\n",
      "* For **larger volumes** and **versatility**, a **stovetop** is a good option.\n",
      "\n",
      "Always prioritize **safety** when boiling water, regardless of the method you choose.\n",
      "\n"
     ]
    }
   ],
   "source": [
    "prompt = \"What's the best method of boiling water?\"\n",
    "\n",
    "print(call_gemini(prompt))"
   ]
  },
  {
   "cell_type": "code",
   "execution_count": 14,
   "metadata": {
    "id": "KwUzhud4aA89",
    "tags": []
   },
   "outputs": [
    {
     "name": "stdout",
     "output_type": "stream",
     "text": [
      "The sky is blue due to a phenomenon called **Rayleigh scattering**. Here's how it works:\n",
      "\n",
      "* **Sunlight is made up of all colors of the rainbow.** When sunlight enters the Earth's atmosphere, it interacts with the tiny molecules of air, primarily nitrogen and oxygen.\n",
      "* **These molecules are much smaller than the wavelengths of visible light.**  This size difference is crucial.\n",
      "* **Shorter wavelengths of light (like blue and violet) scatter more easily than longer wavelengths (like red and orange).** This is why the sky appears blue during the day. The blue light is scattered in all directions, making the sky appear blue.\n",
      "\n",
      "**Here's an analogy:** Imagine sunlight as a stream of tiny balls of different colors. When the balls hit the air molecules, the blue and violet balls bounce off in all directions more often than the red and orange balls.\n",
      "\n",
      "**Why isn't the sky violet?** \n",
      "\n",
      "While violet light scatters even more than blue, our eyes are more sensitive to blue light. So, we perceive the scattered light as blue rather than violet.\n",
      "\n",
      "**Other factors:**\n",
      "\n",
      "* **Time of day:** As the sun sets, the light has to travel through more of the atmosphere to reach our eyes. This means more blue light is scattered away, leaving the longer wavelengths (red, orange, and yellow) to dominate. This is why sunsets are often red and orange.\n",
      "* **Clouds:** Clouds reflect all colors of light equally, which is why they appear white.\n",
      "\n",
      "**In short, the blue color of the sky is a result of the scattering of sunlight by the molecules in the atmosphere.**\n",
      "\n"
     ]
    }
   ],
   "source": [
    "prompt = \"Why is the sky blue?\"\n",
    "\n",
    "print(call_gemini(prompt))"
   ]
  },
  {
   "cell_type": "markdown",
   "metadata": {
    "id": "PJIL2RTQaGcT",
    "tags": []
   },
   "source": [
    "### Watch out for hallucinations"
   ]
  },
  {
   "cell_type": "markdown",
   "metadata": {
    "id": "8Y8kYxrSaHE9"
   },
   "source": [
    "Although LLMs have been trained on a large amount of data, they can generate text containing statements not grounded in truth or reality; these responses from the LLM are often referred to as \"hallucinations\" due to their limited memorization capabilities. Note that simply prompting the LLM to provide a citation isn't a fix to this problem, as there are instances of LLMs providing false or inaccurate citations. Dealing with hallucinations is a fundamental challenge of LLMs and an ongoing research area, so it is important to be cognizant that LLMs may seem to give you confident, correct-sounding statements that are in fact incorrect.\n",
    "\n",
    "Note that if you intend to use LLMs for the creative use cases, hallucinating could actually be quite useful."
   ]
  },
  {
   "cell_type": "markdown",
   "metadata": {
    "id": "8NY5nAGeaJYS"
   },
   "source": [
    "Try the prompt like the one below repeatedly. We set the temperature to 1.0 so that it takes more risks in its choices. It's possible that it may provide an inaccurate, but confident answer."
   ]
  },
  {
   "cell_type": "code",
   "execution_count": 15,
   "metadata": {
    "id": "QALPjEILaM62",
    "tags": []
   },
   "outputs": [
    {
     "name": "stdout",
     "output_type": "stream",
     "text": [
      "I do not have access to real-time information, including the current date. To find out what day it is today, you can:\n",
      "\n",
      "* **Check your phone or computer:** Most devices have a built-in clock that displays the current date.\n",
      "* **Ask a voice assistant:** If you have a smart speaker or phone, you can ask \"What day is it today?\"\n",
      "* **Look at a calendar:** You can find a calendar online or in a physical format. \n",
      "\n"
     ]
    }
   ],
   "source": [
    "generation_config = GenerationConfig(temperature=1.0)\n",
    "\n",
    "prompt = \"What day is it today?\"\n",
    "\n",
    "print(call_gemini(prompt, generation_config))"
   ]
  },
  {
   "cell_type": "markdown",
   "metadata": {
    "id": "BRkwzbgRbhKt"
   },
   "source": [
    "Since LLMs do not have access to real-time information without further integrations, you may have noticed it hallucinates what day it is today in some of the outputs."
   ]
  },
  {
   "cell_type": "markdown",
   "metadata": {
    "id": "3c811e310d02"
   },
   "source": [
    "### Using system instructions to guardrail the model from irrelevant responses\n",
    "\n",
    "How can we attempt to reduce the chances of irrelevant responses and hallucinations?\n",
    "\n",
    "One way is to provide the LLM with [system instructions](https://cloud.google.com/vertex-ai/generative-ai/docs/multimodal/send-chat-prompts-gemini#system-instructions).\n",
    "\n",
    "Let's see how system instructions works and how you can use them to reduce hallucinations or irrelevant questions for a travel chatbot.\n",
    "\n",
    "Suppose we ask a simple question about one of Italy's most famous tourist spots."
   ]
  },
  {
   "cell_type": "code",
   "execution_count": 16,
   "metadata": {
    "id": "rB6zJU76biFK",
    "tags": []
   },
   "outputs": [
    {
     "name": "stdout",
     "output_type": "stream",
     "text": [
      "Milan offers a wealth of sightseeing opportunities! To best recommend a place for you, I need a bit more information. What kind of sights are you interested in? \n",
      "\n",
      "* **Art and History:**  Are you looking for famous museums like the Duomo or the Pinacoteca di Brera, or perhaps Renaissance architecture like the Sforza Castle?\n",
      "* **Shopping and Fashion:** Do you want to explore the luxury boutiques on Via Montenapoleone or browse the stylish shops in the Navigli district?\n",
      "* **Food and Culture:** Are you interested in sampling traditional Milanese cuisine or experiencing the city's vibrant nightlife?\n",
      "\n",
      "Once you tell me what you're most interested in, I can give you a more tailored recommendation. \n",
      "\n"
     ]
    }
   ],
   "source": [
    "model_travel = GenerativeModel(\n",
    "    model_name=\"gemini-1.5-flash\",\n",
    "    system_instruction=[\n",
    "        \"Hello! You are an AI chatbot for a travel web site.\",\n",
    "        \"Your mission is to provide helpful queries for travelers.\",\n",
    "        \"Remember that before you answer a question, you must check to see if it complies with your mission.\",\n",
    "        \"If not, you can say, Sorry I can't answer that question.\",\n",
    "    ],\n",
    ")\n",
    "\n",
    "chat = model_travel.start_chat()\n",
    "\n",
    "prompt = \"What is the best place for sightseeing in Milan, Italy?\"\n",
    "\n",
    "print(send_message_gemini(chat, prompt))"
   ]
  },
  {
   "cell_type": "markdown",
   "metadata": {
    "id": "WZa-Qcf9cF4A"
   },
   "source": [
    "Now let us pretend to be a user asks the chatbot a question that is unrelated to travel."
   ]
  },
  {
   "cell_type": "code",
   "execution_count": 17,
   "metadata": {
    "id": "AZKBIDr2cGnu",
    "tags": []
   },
   "outputs": [
    {
     "name": "stdout",
     "output_type": "stream",
     "text": [
      "Sorry, I can't answer that question. I'm designed to help travelers with their trip planning, not provide personal recommendations for dinner.  \n",
      "\n",
      "However, I can help you find great restaurants in Milan! Tell me what kind of cuisine you're interested in, and your budget, and I'll be happy to suggest some options. \n",
      "\n"
     ]
    }
   ],
   "source": [
    "prompt = \"What's for dinner?\"\n",
    "\n",
    "print(send_message_gemini(chat, prompt))"
   ]
  },
  {
   "cell_type": "markdown",
   "metadata": {
    "id": "JiUYIhwpctCy"
   },
   "source": [
    "You can see that this way, a guardrail in the prompt prevented the chatbot from veering off course."
   ]
  },
  {
   "cell_type": "markdown",
   "metadata": {
    "id": "ZuuDhA37cvmP"
   },
   "source": [
    "### Turn generative tasks into classification tasks to reduce output variability"
   ]
  },
  {
   "cell_type": "markdown",
   "metadata": {
    "id": "kUCUrsUzczmb"
   },
   "source": [
    "#### Generative tasks lead to higher output variability"
   ]
  },
  {
   "cell_type": "markdown",
   "metadata": {
    "id": "a1xASHAkc46n"
   },
   "source": [
    "The prompt below results in an open-ended response, useful for brainstorming, but response is highly variable."
   ]
  },
  {
   "cell_type": "code",
   "execution_count": 18,
   "metadata": {
    "id": "nPfXQWIacwRf",
    "tags": []
   },
   "outputs": [
    {
     "name": "stdout",
     "output_type": "stream",
     "text": [
      "## Programming Activity Recommendations for High School Students:\n",
      "\n",
      "**Level: Beginner**\n",
      "\n",
      "* **Build a simple text-based game:** Choose a classic like Hangman or Guess the Number, and focus on learning basic input/output, loops, and conditional statements.\n",
      "* **Create a website using HTML, CSS, and JavaScript:** Start with simple pages like a portfolio or a blog. Experiment with styling, animations, and interactivity.\n",
      "* **Learn Python and build a basic calculator or unit converter:** Python is beginner-friendly and has many libraries for common tasks.\n",
      "* **Contribute to an open-source project:** Find a project on GitHub related to your interests and offer to help with small tasks like fixing bugs or adding features.\n",
      "\n",
      "**Level: Intermediate**\n",
      "\n",
      "* **Develop a simple mobile app using MIT App Inventor or Thunkable:** Create a fun app with basic features like user input, data storage, and notifications.\n",
      "* **Learn data structures and algorithms:** Build a sorting algorithm (e.g., bubble sort) or implement a data structure like a linked list in your preferred language.\n",
      "* **Create a personal project based on your interests:**  Is there a hobby or problem you want to solve?  Building something you're passionate about will keep you motivated.\n",
      "* **Participate in a coding challenge or hackathon:**  These events are a great way to test your skills and learn from others.\n",
      "\n",
      "**Level: Advanced**\n",
      "\n",
      "* **Build a complex web application with a backend framework like Node.js, Django, or Flask:** Focus on server-side logic, database integration, and web security.\n",
      "* **Explore machine learning or artificial intelligence:**  Learn about different algorithms and build a basic AI project like a chatbot or image classifier.\n",
      "* **Develop a game using a game engine like Unity or Unreal Engine:**  Explore 3D graphics, physics, and game design principles.\n",
      "* **Contribute to a large-scale open-source project:** Choose a project with a strong community and dive into complex codebases.\n",
      "\n",
      "**Tips for success:**\n",
      "\n",
      "* **Start small and build gradually:**  Don't try to tackle everything at once. Focus on mastering one concept or skill at a time.\n",
      "* **Practice consistently:**  The key to improvement is regular practice. Dedicate time each day to coding.\n",
      "* **Seek feedback and learn from others:**  Share your work with classmates, mentors, or online communities to get constructive feedback.\n",
      "* **Have fun!**  Programming should be enjoyable. If you're not having fun, it's harder to stay motivated.\n",
      "\n",
      "No matter your level, there's a programming activity out there for you. Choose something that interests you and start learning!\n"
     ]
    }
   ],
   "source": [
    "prompt = \"I'm a high school student. Recommend me a programming activity to improve my skills.\"\n",
    "\n",
    "print(call_gemini(prompt))"
   ]
  },
  {
   "cell_type": "markdown",
   "metadata": {
    "id": "iAmm9wPYc_1o"
   },
   "source": [
    "#### Classification tasks reduces output variability"
   ]
  },
  {
   "cell_type": "markdown",
   "metadata": {
    "id": "VvRpK_0GdCpf"
   },
   "source": [
    "The prompt below results in a choice and may be useful if you want the output to be easier to control."
   ]
  },
  {
   "cell_type": "code",
   "execution_count": 19,
   "metadata": {
    "id": "kYDKh0r2dAqo",
    "tags": []
   },
   "outputs": [
    {
     "name": "stdout",
     "output_type": "stream",
     "text": [
      "As a high school student, you're in a fantastic position to learn programming. All three options are valuable, but the best choice depends on your interests and goals:\n",
      "\n",
      "**a) Learn Python:**\n",
      "\n",
      "* **Pros:** \n",
      "    * **Beginner-friendly:** Python's syntax is clear and readable, making it a great language for beginners.\n",
      "    * **Versatile:** Python is used in web development, data science, machine learning, automation, and more.\n",
      "    * **Large community and resources:**  A huge community provides plenty of tutorials, documentation, and support.\n",
      "* **Cons:**\n",
      "    * **Not as performant for certain tasks:** While versatile, Python might not be the best choice for high-performance applications. \n",
      "\n",
      "**b) Learn JavaScript:**\n",
      "\n",
      "* **Pros:**\n",
      "    * **Essential for web development:** JavaScript is the language that makes websites interactive. \n",
      "    * **In-demand:**  JavaScript skills are highly sought after in the tech industry.\n",
      "    * **Growing ecosystem:**  JavaScript is used in a wide range of applications beyond web development, including mobile apps and game development. \n",
      "* **Cons:**\n",
      "    * **Can be complex to master:**  JavaScript has a complex ecosystem and can be challenging for beginners.\n",
      "\n",
      "**c) Learn Fortran:**\n",
      "\n",
      "* **Pros:**\n",
      "    * **Historically significant:** Fortran is a powerful language for scientific computing and high-performance computing.\n",
      "    * **Still used in various fields:**  Fortran remains popular in engineering, finance, and other fields. \n",
      "* **Cons:** \n",
      "    * **Steeper learning curve:** Fortran's syntax is more complex than Python or JavaScript.\n",
      "    * **Limited job market:**  Fortran is not as widely used as Python or JavaScript, so there may be fewer job opportunities.\n",
      "\n",
      "**Recommendation:**\n",
      "\n",
      "**If your goal is to learn programming for the first time and explore different fields, Python is a great starting point.** Its versatility and beginner-friendliness make it a solid foundation.\n",
      "\n",
      "**If you're specifically interested in web development, JavaScript is a must-learn.**  You'll be able to build interactive websites and applications.\n",
      "\n",
      "**If you're passionate about science, engineering, or high-performance computing, Fortran is a valuable skill.** However, consider learning Python alongside it as a more versatile language.\n",
      "\n",
      "**Ultimately, the best choice for you depends on your interests and career aspirations.**  Experiment with different languages and see which one resonates with you the most. \n",
      "\n"
     ]
    }
   ],
   "source": [
    "prompt = \"\"\"I'm a high school student. Which of these activities do you suggest and why:\n",
    "a) learn Python\n",
    "b) learn JavaScript\n",
    "c) learn Fortran\n",
    "\"\"\"\n",
    "\n",
    "print(call_gemini(prompt))"
   ]
  },
  {
   "cell_type": "markdown",
   "metadata": {
    "id": "iTd60b1GdIsx"
   },
   "source": [
    "### Improve response quality by including examples"
   ]
  },
  {
   "cell_type": "markdown",
   "metadata": {
    "id": "yJi44NejdJYE"
   },
   "source": [
    "Another way to improve response quality is to add examples in your prompt. The LLM learns in-context from the examples on how to respond. Typically, one to five examples (shots) are enough to improve the quality of responses. Including too many examples can cause the model to over-fit the data and reduce the quality of responses.\n",
    "\n",
    "Similar to classical model training, the quality and distribution of the examples is very important. Pick examples that are representative of the scenarios that you need the model to learn, and keep the distribution of the examples (e.g. number of examples per class in the case of classification) aligned with your actual distribution."
   ]
  },
  {
   "cell_type": "markdown",
   "metadata": {
    "id": "sMbLginWdOKs"
   },
   "source": [
    "#### Zero-shot prompt"
   ]
  },
  {
   "cell_type": "markdown",
   "metadata": {
    "id": "Crh2Loi2dQ0v"
   },
   "source": [
    "Below is an example of zero-shot prompting, where you don't provide any examples to the LLM within the prompt itself."
   ]
  },
  {
   "cell_type": "code",
   "execution_count": 20,
   "metadata": {
    "id": "-7myRc-SdTQ4",
    "tags": []
   },
   "outputs": [
    {
     "name": "stdout",
     "output_type": "stream",
     "text": [
      "Sentiment: **Positive** \n",
      "\n"
     ]
    }
   ],
   "source": [
    "prompt = \"\"\"Decide whether a Tweet's sentiment is positive, neutral, or negative.\n",
    "\n",
    "Tweet: I loved the new YouTube video you made!\n",
    "Sentiment:\n",
    "\"\"\"\n",
    "\n",
    "print(call_gemini(prompt))"
   ]
  },
  {
   "cell_type": "markdown",
   "metadata": {
    "id": "ucRtPn9SdL64"
   },
   "source": [
    "#### One-shot prompt"
   ]
  },
  {
   "cell_type": "markdown",
   "metadata": {
    "id": "rs0gQH2vdYBi"
   },
   "source": [
    "Below is an example of one-shot prompting, where you provide one example to the LLM within the prompt to give some guidance on what type of response you want."
   ]
  },
  {
   "cell_type": "code",
   "execution_count": 21,
   "metadata": {
    "id": "iEq-KxGYdaT5",
    "tags": []
   },
   "outputs": [
    {
     "name": "stdout",
     "output_type": "stream",
     "text": [
      "Sentiment: **negative** \n",
      "\n"
     ]
    }
   ],
   "source": [
    "prompt = \"\"\"Decide whether a Tweet's sentiment is positive, neutral, or negative.\n",
    "\n",
    "Tweet: I loved the new YouTube video you made!\n",
    "Sentiment: positive\n",
    "\n",
    "Tweet: That was awful. Super boring 😠\n",
    "Sentiment:\n",
    "\"\"\"\n",
    "\n",
    "print(call_gemini(prompt))"
   ]
  },
  {
   "cell_type": "markdown",
   "metadata": {
    "id": "JnKLjJzmdfL_"
   },
   "source": [
    "#### Few-shot prompt"
   ]
  },
  {
   "cell_type": "markdown",
   "metadata": {
    "id": "6Zv-9F5OdgI_"
   },
   "source": [
    "Below is an example of few-shot prompting, where you provide a few examples to the LLM within the prompt to give some guidance on what type of response you want."
   ]
  },
  {
   "cell_type": "code",
   "execution_count": 22,
   "metadata": {
    "id": "u37P9tG4dk9S",
    "tags": []
   },
   "outputs": [
    {
     "name": "stdout",
     "output_type": "stream",
     "text": [
      "Sentiment: **Positive** \n",
      "\n",
      "Here's why:\n",
      "\n",
      "* **\"Something surprised me about this video - it was actually original.\"** This indicates the tweet author found the video refreshing and different, which is a positive sentiment.\n",
      "* **\"It was not the same old recycled stuff that I always see.\"**  This reinforces the positive aspect of the video being original.\n",
      "* **\"Watch it - you will not regret it.\"** This is a strong recommendation, indicating a positive opinion. \n",
      "\n"
     ]
    }
   ],
   "source": [
    "prompt = \"\"\"Decide whether a Tweet's sentiment is positive, neutral, or negative.\n",
    "\n",
    "Tweet: I loved the new YouTube video you made!\n",
    "Sentiment: positive\n",
    "\n",
    "Tweet: That was awful. Super boring 😠\n",
    "Sentiment: negative\n",
    "\n",
    "Tweet: Something surprised me about this video - it was actually original. It was not the same old recycled stuff that I always see. Watch it - you will not regret it.\n",
    "Sentiment:\n",
    "\"\"\"\n",
    "\n",
    "print(call_gemini(prompt))"
   ]
  },
  {
   "cell_type": "markdown",
   "metadata": {
    "id": "wDMD3xb2dvX6",
    "tags": []
   },
   "source": [
    "#### Choosing between zero-shot, one-shot, few-shot prompting methods"
   ]
  },
  {
   "cell_type": "markdown",
   "metadata": {
    "id": "s92W0YpNdxJp"
   },
   "source": [
    "Which prompt technique to use will solely depends on your goal. The zero-shot prompts are more open-ended and can give you creative answers, while one-shot and few-shot prompts teach the model how to behave so you can get more predictable answers that are consistent with the examples provided."
   ]
  }
 ],
 "metadata": {
  "colab": {
   "name": "intro_prompt_design.ipynb",
   "toc_visible": true
  },
  "environment": {
   "kernel": "conda-base-py",
   "name": "workbench-notebooks.m125",
   "type": "gcloud",
   "uri": "us-docker.pkg.dev/deeplearning-platform-release/gcr.io/workbench-notebooks:m125"
  },
  "kernelspec": {
   "display_name": "Python 3 (ipykernel) (Local)",
   "language": "python",
   "name": "conda-base-py"
  },
  "language_info": {
   "codemirror_mode": {
    "name": "ipython",
    "version": 3
   },
   "file_extension": ".py",
   "mimetype": "text/x-python",
   "name": "python",
   "nbconvert_exporter": "python",
   "pygments_lexer": "ipython3",
   "version": "3.10.15"
  }
 },
 "nbformat": 4,
 "nbformat_minor": 4
}
